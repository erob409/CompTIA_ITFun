{
  "nbformat": 4,
  "nbformat_minor": 0,
  "metadata": {
    "colab": {
      "provenance": []
    },
    "kernelspec": {
      "name": "python3",
      "display_name": "Python 3"
    },
    "language_info": {
      "name": "python"
    }
  },
  "cells": [
    {
      "cell_type": "code",
      "source": [
        "SUFFIX_DICT = {1: 'st', 2: 'nd', 3: 'rd'}\n",
        "def ordinal_suffix(i):\n",
        "    if len(str(i)) >= 2:\n",
        "        i = int(str(i)[-2:])\n",
        "    if 10 < i < 14:\n",
        "        suffix = 'th'\n",
        "    else:\n",
        "        suffix = SUFFIX_DICT.get(i % 10, 'th')\n",
        "    return suffix"
      ],
      "metadata": {
        "id": "BKxXTn0235dx"
      },
      "execution_count": null,
      "outputs": []
    },
    {
      "cell_type": "code",
      "source": [
        "while True:\n",
        "    number = int(input(\"Type a number \"))\n",
        "    if number == -1:\n",
        "      print(\"Goodbye.\")\n",
        "      break\n",
        "    print(str(number) + ordinal_suffix(number))\n"
      ],
      "metadata": {
        "id": "gbgv-N0R4DsJ",
        "colab": {
          "base_uri": "https://localhost:8080/"
        },
        "outputId": "1729a740-3033-460d-92a0-8a65cd7339ca"
      },
      "execution_count": null,
      "outputs": [
        {
          "output_type": "stream",
          "name": "stdout",
          "text": [
            "Type a number 15\n",
            "15th\n",
            "Type a number 16\n",
            "16th\n",
            "Type a number 216\n",
            "216th\n",
            "Type a number -1\n",
            "Goodbye.\n"
          ]
        }
      ]
    }
  ]
}