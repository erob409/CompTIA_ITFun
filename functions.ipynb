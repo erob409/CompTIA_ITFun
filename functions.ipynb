{
  "nbformat": 4,
  "nbformat_minor": 0,
  "metadata": {
    "colab": {
      "provenance": [],
      "authorship_tag": "ABX9TyM+aF2lgqmki3d6aEhyqlSN",
      "include_colab_link": true
    },
    "kernelspec": {
      "name": "python3",
      "display_name": "Python 3"
    },
    "language_info": {
      "name": "python"
    }
  },
  "cells": [
    {
      "cell_type": "markdown",
      "metadata": {
        "id": "view-in-github",
        "colab_type": "text"
      },
      "source": [
        "<a href=\"https://colab.research.google.com/github/erob409/CompTIA_ITFun/blob/main/functions.ipynb\" target=\"_parent\"><img src=\"https://colab.research.google.com/assets/colab-badge.svg\" alt=\"Open In Colab\"/></a>"
      ]
    },
    {
      "cell_type": "markdown",
      "source": [
        "Some functions are built-in to python, such as type() and print() and others, but we can build our own functions for our own purposes."
      ],
      "metadata": {
        "id": "me6hzPZ1-6tk"
      }
    },
    {
      "cell_type": "code",
      "execution_count": 1,
      "metadata": {
        "id": "wdmxklpD01zy"
      },
      "outputs": [],
      "source": [
        "#function to convert yards to feet.  It takes yards as input, and outputs the number of feet\n",
        "def yds_to_feet(yds):\n",
        "  return 3 * yds"
      ]
    },
    {
      "cell_type": "markdown",
      "source": [
        "Once the function is defined, nothing happens until we call it."
      ],
      "metadata": {
        "id": "8RLh_HW91iub"
      }
    },
    {
      "cell_type": "code",
      "source": [
        "yds_to_feet(100)"
      ],
      "metadata": {
        "colab": {
          "base_uri": "https://localhost:8080/"
        },
        "id": "ryP8vGNG15iq",
        "outputId": "a0824f19-be7f-411d-c8d2-93d0f6aa3cad"
      },
      "execution_count": 2,
      "outputs": [
        {
          "output_type": "execute_result",
          "data": {
            "text/plain": [
              "300"
            ]
          },
          "metadata": {},
          "execution_count": 2
        }
      ]
    },
    {
      "cell_type": "code",
      "source": [
        "yds_to_feet(10)"
      ],
      "metadata": {
        "id": "oDOMHjbe2Y6L"
      },
      "execution_count": null,
      "outputs": []
    },
    {
      "cell_type": "markdown",
      "source": [
        "Write a function called feet_to_inches, below, which takes the number of feet as input and returns the number of inches that equal it. Use the yds_to_feet function as a model."
      ],
      "metadata": {
        "id": "MhRHlnDE24oh"
      }
    },
    {
      "cell_type": "code",
      "source": [
        "# write code here. By the way, this is a comment, which is ignored by python"
      ],
      "metadata": {
        "id": "_2S-2jIJ-ij-"
      },
      "execution_count": null,
      "outputs": []
    }
  ]
}